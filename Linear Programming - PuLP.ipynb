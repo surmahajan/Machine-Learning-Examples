{
 "cells": [
  {
   "cell_type": "markdown",
   "metadata": {},
   "source": [
    "Use Linear Programming Optimization Package PuLP to solve a production scheduling problem"
   ]
  },
  {
   "cell_type": "code",
   "execution_count": 1,
   "metadata": {},
   "outputs": [
    {
     "name": "stdout",
     "output_type": "stream",
     "text": [
      "Requirement already satisfied: pulp in c:\\python\\lib\\site-packages (2.1)\n",
      "Requirement already satisfied: pyparsing>=2.0.1 in c:\\python\\lib\\site-packages (from pulp) (2.4.7)\n",
      "Could not build wheels for pulp, since package 'wheel' is not installed.\n",
      "Could not build wheels for pyparsing, since package 'wheel' is not installed.\n",
      "Note: you may need to restart the kernel to use updated packages.\n"
     ]
    }
   ],
   "source": [
    "pip install pulp"
   ]
  },
  {
   "cell_type": "code",
   "execution_count": 1,
   "metadata": {},
   "outputs": [],
   "source": [
    "from pulp import *"
   ]
  },
  {
   "cell_type": "code",
   "execution_count": 2,
   "metadata": {},
   "outputs": [],
   "source": [
    "#create a problem object. \n",
    "#problem constructor receives a problem name and LpMaximize, which means we want to maximize our objective function. \n",
    "#In our case, this is the profit from selling a certain number of computers.\n",
    "problem = LpProblem(\"problemName\", LpMaximize)"
   ]
  },
  {
   "cell_type": "code",
   "execution_count": 3,
   "metadata": {},
   "outputs": [],
   "source": [
    "#Define the constants that we received from the problem statement\n",
    "# factory cost per day\n",
    "cf0 = 450\n",
    "cf1 = 420\n",
    "cf2 = 400\n",
    "\n",
    "# factory throughput per day\n",
    "f0 = 2000\n",
    "f1 = 1500\n",
    "f2 = 1000\n",
    "\n",
    "# production goal\n",
    "goal = 80000\n",
    "\n",
    "# time limit\n",
    "max_num_days = 30\n",
    "\n",
    "# number of factories\n",
    "num_factories = 3"
   ]
  },
  {
   "cell_type": "code",
   "execution_count": 4,
   "metadata": {},
   "outputs": [],
   "source": [
    "# Decision Variables\n",
    "#define variables in PuLP is using the dicts function. This can be very useful in cases where we need to define a \n",
    "#large number of variables of the same type and bounds, variableNames would be a list of keys for the dictionary:\n",
    "#varDict = LpVariable.dicts(\"boundedVariableName\",lowerBound,upperBound)\n",
    "\n",
    "factory_days = LpVariable.dicts(\"factoryDays\", list(range(num_factories)), 0, 30, cat=\"Continuous\")"
   ]
  },
  {
   "cell_type": "code",
   "execution_count": 5,
   "metadata": {},
   "outputs": [],
   "source": [
    "#CONSTRAINTS\n",
    "\n",
    "#The constraints that we care about are that the number of units assembled should be above or equal to \n",
    "#the goal amount and the production constraint that no factory should produce more than double as the other factory:\n",
    "\n",
    "#Goal Constraint\n",
    "c1 = factory_days[0]*f0 + factory_days[1]*f1 +factory_days[2]*f2 >= goal"
   ]
  },
  {
   "cell_type": "code",
   "execution_count": 6,
   "metadata": {},
   "outputs": [],
   "source": [
    "#Production Constraint\n",
    "c2 = factory_days[0]*f0 <= 2*factory_days[1]*f1\n",
    "c3 = factory_days[0]*f0 <= 2*factory_days[2]*f2\n",
    "c4 = factory_days[1]*f1 <= 2*factory_days[2]*f2\n",
    "c5 = factory_days[1]*f1 <= 2*factory_days[0]*f0\n",
    "c6 = factory_days[2]*f2 <= 2*factory_days[1]*f1\n",
    "c7 = factory_days[2]*f2 <= 2*factory_days[0]*f0"
   ]
  },
  {
   "cell_type": "code",
   "execution_count": 7,
   "metadata": {},
   "outputs": [],
   "source": [
    "#adding constraints to the problem\n",
    "problem += c1\n",
    "problem += c2\n",
    "problem += c3\n",
    "problem += c4\n",
    "problem += c5\n",
    "problem += c6\n",
    "problem += c7"
   ]
  },
  {
   "cell_type": "code",
   "execution_count": 8,
   "metadata": {},
   "outputs": [],
   "source": [
    "#The objective function for the computer assembly problem is basically minimizing the cost of assembling \n",
    "#all of those computers. This can be written simply as maximizing the negative cost:\n",
    "problem += -factory_days[0]*cf0*f0 - factory_days[1]*cf1*f1 - factory_days[2]*cf2*f2"
   ]
  },
  {
   "cell_type": "code",
   "execution_count": 9,
   "metadata": {},
   "outputs": [
    {
     "name": "stdout",
     "output_type": "stream",
     "text": [
      "problemName:\n",
      "MAXIMIZE\n",
      "-900000*factoryDays_0 + -630000*factoryDays_1 + -400000*factoryDays_2 + 0\n",
      "SUBJECT TO\n",
      "_C1: 2000 factoryDays_0 + 1500 factoryDays_1 + 1000 factoryDays_2 >= 80000\n",
      "\n",
      "_C2: 2000 factoryDays_0 - 3000 factoryDays_1 <= 0\n",
      "\n",
      "_C3: 2000 factoryDays_0 - 2000 factoryDays_2 <= 0\n",
      "\n",
      "_C4: 1500 factoryDays_1 - 2000 factoryDays_2 <= 0\n",
      "\n",
      "_C5: - 4000 factoryDays_0 + 1500 factoryDays_1 <= 0\n",
      "\n",
      "_C6: - 3000 factoryDays_1 + 1000 factoryDays_2 <= 0\n",
      "\n",
      "_C7: - 4000 factoryDays_0 + 1000 factoryDays_2 <= 0\n",
      "\n",
      "VARIABLES\n",
      "factoryDays_0 <= 30 Continuous\n",
      "factoryDays_1 <= 30 Continuous\n",
      "factoryDays_2 <= 30 Continuous\n",
      "\n"
     ]
    }
   ],
   "source": [
    "print(problem)"
   ]
  },
  {
   "cell_type": "code",
   "execution_count": 10,
   "metadata": {},
   "outputs": [
    {
     "data": {
      "text/plain": [
       "1"
      ]
     },
     "execution_count": 10,
     "metadata": {},
     "output_type": "execute_result"
    }
   ],
   "source": [
    "#Solving \n",
    "problem.solve()"
   ]
  },
  {
   "cell_type": "code",
   "execution_count": 14,
   "metadata": {},
   "outputs": [
    {
     "name": "stdout",
     "output_type": "stream",
     "text": [
      "Factory 0: 8.3333333\n",
      "Factory 1: 22.222222\n",
      "Factory 2: 30.0\n"
     ]
    }
   ],
   "source": [
    "for i in range(3):\n",
    "    print(f\"Factory {i}: {factory_days[i].varValue}\")"
   ]
  },
  {
   "cell_type": "code",
   "execution_count": null,
   "metadata": {},
   "outputs": [],
   "source": []
  }
 ],
 "metadata": {
  "kernelspec": {
   "display_name": "Python 3",
   "language": "python",
   "name": "python3"
  },
  "language_info": {
   "codemirror_mode": {
    "name": "ipython",
    "version": 3
   },
   "file_extension": ".py",
   "mimetype": "text/x-python",
   "name": "python",
   "nbconvert_exporter": "python",
   "pygments_lexer": "ipython3",
   "version": "3.8.2"
  }
 },
 "nbformat": 4,
 "nbformat_minor": 4
}
